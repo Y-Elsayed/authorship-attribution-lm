{
  "cells": [
    {
      "cell_type": "code",
      "execution_count": null,
      "metadata": {
        "id": "amDCV8PSZNaJ"
      },
      "outputs": [],
      "source": []
    },
    {
      "cell_type": "markdown",
      "metadata": {
        "id": "2Rs4ptu1ZmjT"
      },
      "source": [
        "In this Notebook I will test different models with different N to check which one produces the best results"
      ]
    },
    {
      "cell_type": "code",
      "execution_count": 2,
      "metadata": {
        "id": "mIih4T4sZmjW"
      },
      "outputs": [],
      "source": [
        "from data_processor import DataProcessor\n",
        "import ngram_authorship_classifier\n",
        "import os\n",
        "from dotenv import load_dotenv"
      ]
    },
    {
      "cell_type": "markdown",
      "metadata": {
        "id": "14OZy05gZmjX"
      },
      "source": [
        "Load Data"
      ]
    },
    {
      "cell_type": "code",
      "execution_count": 3,
      "metadata": {
        "colab": {
          "base_uri": "https://localhost:8080/"
        },
        "id": "6ynNmALhZmjY",
        "outputId": "8dbaffcb-cb99-40d5-84e0-85f0fbc4601e"
      },
      "outputs": [
        {
          "name": "stdout",
          "output_type": "stream",
          "text": [
            "data_dir: ./author_texts\n",
            "Contents of data_dir: ['dickens_utf8.txt', 'austen_utf8.txt', 'tolstoy_utf8.txt', 'wilde_utf8.txt']\n"
          ]
        }
      ],
      "source": [
        "load_dotenv()\n",
        "data_dir = os.getenv('TRAIN_DATA_PATH')"
      ]
    },
    {
      "cell_type": "code",
      "execution_count": 4,
      "metadata": {
        "colab": {
          "base_uri": "https://localhost:8080/"
        },
        "id": "Fxk3VmDhZmjY",
        "outputId": "3af4f97c-dac0-4e36-9a57-f65a88350e5a"
      },
      "outputs": [
        {
          "name": "stdout",
          "output_type": "stream",
          "text": [
            "Processing data for author: Austen\n",
            "Splitting into training and development...\n",
            "Processing data for author: Dickens\n",
            "Splitting into training and development...\n",
            "Processing data for author: Tolstoy\n",
            "Splitting into training and development...\n",
            "Processing data for author: Wilde\n",
            "Splitting into training and development...\n"
          ]
        }
      ],
      "source": [
        "author_files = [\"austen_utf8.txt\",\"dickens_utf8.txt\",\"tolstoy_utf8.txt\",\"wilde_utf8.txt\"]\n",
        "author_names = [\"Austen\",\"Dickens\",\"Tolstoy\",\"Wilde\"]\n",
        "\n",
        "data_proc = DataProcessor()\n",
        "\n",
        "authors_train_data = dict()\n",
        "authors_test_data = dict()\n",
        "for i in range(len(author_files)):\n",
        "    print(\"Processing data for author: \" + author_names[i])\n",
        "    trainset, devset = data_proc.process_split_file(os.path.join(data_dir, author_files[i]))\n",
        "    authors_train_data[author_names[i]] = trainset\n",
        "    authors_test_data[author_names[i]] = devset\n"
      ]
    },
    {
      "cell_type": "markdown",
      "metadata": {
        "id": "lEDYGO7iZmja"
      },
      "source": [
        "Trying different combinations"
      ]
    },
    {
      "cell_type": "code",
      "execution_count": 5,
      "metadata": {
        "id": "ci5xht-fZmja"
      },
      "outputs": [],
      "source": [
        "models = [\"mle\",\"sb\",\"lp\",\"kn\"]\n",
        "ngrams = [1,2,3,4,5]"
      ]
    },
    {
      "cell_type": "code",
      "execution_count": 6,
      "metadata": {
        "colab": {
          "base_uri": "https://localhost:8080/"
        },
        "id": "2l6lriqlZmjb",
        "outputId": "8b5c406b-27a3-4244-ffbf-5016b4275a09"
      },
      "outputs": [
        {
          "name": "stdout",
          "output_type": "stream",
          "text": [
            "dict_keys(['Austen', 'Dickens', 'Tolstoy', 'Wilde'])\n"
          ]
        }
      ],
      "source": [
        "print(authors_test_data.keys())"
      ]
    },
    {
      "cell_type": "markdown",
      "metadata": {
        "id": "4zLZotCnZmjb"
      },
      "source": [
        "Evaluating the Different Combinations"
      ]
    },
    {
      "cell_type": "code",
      "execution_count": 15,
      "metadata": {
        "colab": {
          "base_uri": "https://localhost:8080/"
        },
        "id": "Bb2zPPapZmjc",
        "outputId": "0bd7b40e-a10d-4b05-c0a2-c36e148e9e28"
      },
      "outputs": [
        {
          "data": {
            "text/plain": [
              "<module 'ngram_authorship_classifier' from '/content/ngram_authorship_classifier.py'>"
            ]
          },
          "execution_count": 15,
          "metadata": {},
          "output_type": "execute_result"
        }
      ],
      "source": [
        "import importlib\n",
        "importlib.reload(ngram_authorship_classifier)"
      ]
    },
    {
      "cell_type": "code",
      "execution_count": 8,
      "metadata": {
        "colab": {
          "base_uri": "https://localhost:8080/"
        },
        "id": "yk2WGhZrZmjc",
        "outputId": "065f17cc-953b-4270-ecd2-5e15bb257165"
      },
      "outputs": [
        {
          "name": "stdout",
          "output_type": "stream",
          "text": [
            "Training model: mle with ngram: 1\n",
            "Training LMs... (this may take a while)\n",
            "Evaluating model: mle with ngram: 1\n",
            "Results on dev set:\n",
            "Austen \t 88.77% correct\n",
            "Dickens \t 87.11% correct\n",
            "Tolstoy \t 93.09% correct\n",
            "Wilde \t 89.94% correct\n",
            "Training model: mle with ngram: 2\n",
            "Training LMs... (this may take a while)\n",
            "Evaluating model: mle with ngram: 2\n",
            "Results on dev set:\n",
            "Austen \t 89.84% correct\n",
            "Dickens \t 84.77% correct\n",
            "Tolstoy \t 92.82% correct\n",
            "Wilde \t 79.88% correct\n",
            "Training model: mle with ngram: 3\n",
            "Training LMs... (this may take a while)\n",
            "Evaluating model: mle with ngram: 3\n",
            "Results on dev set:\n",
            "Austen \t 86.63% correct\n",
            "Dickens \t 79.69% correct\n",
            "Tolstoy \t 92.54% correct\n",
            "Wilde \t 71.60% correct\n",
            "Training model: mle with ngram: 4\n",
            "Training LMs... (this may take a while)\n",
            "Evaluating model: mle with ngram: 4\n",
            "Results on dev set:\n",
            "Austen \t 79.68% correct\n",
            "Dickens \t 75.78% correct\n",
            "Tolstoy \t 85.91% correct\n",
            "Wilde \t 63.91% correct\n",
            "Training model: mle with ngram: 5\n",
            "Training LMs... (this may take a while)\n",
            "Evaluating model: mle with ngram: 5\n",
            "Results on dev set:\n",
            "Austen \t 70.05% correct\n",
            "Dickens \t 71.48% correct\n",
            "Tolstoy \t 78.45% correct\n",
            "Wilde \t 64.50% correct\n",
            "Training model: sb with ngram: 1\n",
            "Training LMs... (this may take a while)\n",
            "Evaluating model: sb with ngram: 1\n",
            "Results on dev set:\n",
            "Austen \t 88.77% correct\n",
            "Dickens \t 87.11% correct\n",
            "Tolstoy \t 93.09% correct\n",
            "Wilde \t 89.94% correct\n",
            "Training model: sb with ngram: 2\n",
            "Training LMs... (this may take a while)\n",
            "Evaluating model: sb with ngram: 2\n",
            "Results on dev set:\n",
            "Austen \t 89.84% correct\n",
            "Dickens \t 84.77% correct\n",
            "Tolstoy \t 92.82% correct\n",
            "Wilde \t 79.88% correct\n",
            "Training model: sb with ngram: 3\n",
            "Training LMs... (this may take a while)\n",
            "Evaluating model: sb with ngram: 3\n",
            "Results on dev set:\n",
            "Austen \t 86.63% correct\n",
            "Dickens \t 79.69% correct\n",
            "Tolstoy \t 92.54% correct\n",
            "Wilde \t 71.60% correct\n",
            "Training model: sb with ngram: 4\n",
            "Training LMs... (this may take a while)\n",
            "Evaluating model: sb with ngram: 4\n",
            "Results on dev set:\n",
            "Austen \t 79.68% correct\n",
            "Dickens \t 75.78% correct\n",
            "Tolstoy \t 85.91% correct\n",
            "Wilde \t 63.91% correct\n",
            "Training model: sb with ngram: 5\n",
            "Training LMs... (this may take a while)\n",
            "Evaluating model: sb with ngram: 5\n",
            "Results on dev set:\n",
            "Austen \t 70.05% correct\n",
            "Dickens \t 71.48% correct\n",
            "Tolstoy \t 78.45% correct\n",
            "Wilde \t 64.50% correct\n",
            "Training model: lp with ngram: 1\n",
            "Training LMs... (this may take a while)\n",
            "Evaluating model: lp with ngram: 1\n",
            "Results on dev set:\n",
            "Austen \t 91.44% correct\n",
            "Dickens \t 87.89% correct\n",
            "Tolstoy \t 92.27% correct\n",
            "Wilde \t 92.90% correct\n",
            "Training model: lp with ngram: 2\n",
            "Training LMs... (this may take a while)\n",
            "Evaluating model: lp with ngram: 2\n",
            "Results on dev set:\n",
            "Austen \t 94.12% correct\n",
            "Dickens \t 87.50% correct\n",
            "Tolstoy \t 83.98% correct\n",
            "Wilde \t 92.31% correct\n",
            "Training model: lp with ngram: 3\n",
            "Training LMs... (this may take a while)\n",
            "Evaluating model: lp with ngram: 3\n",
            "Results on dev set:\n",
            "Austen \t 42.25% correct\n",
            "Dickens \t 58.20% correct\n",
            "Tolstoy \t 17.68% correct\n",
            "Wilde \t 95.86% correct\n",
            "Training model: lp with ngram: 4\n",
            "Training LMs... (this may take a while)\n",
            "Evaluating model: lp with ngram: 4\n",
            "Results on dev set:\n",
            "Austen \t 13.37% correct\n",
            "Dickens \t 28.91% correct\n",
            "Tolstoy \t 4.14% correct\n",
            "Wilde \t 97.63% correct\n",
            "Training model: lp with ngram: 5\n",
            "Training LMs... (this may take a while)\n",
            "Evaluating model: lp with ngram: 5\n",
            "Results on dev set:\n",
            "Austen \t 10.16% correct\n",
            "Dickens \t 17.58% correct\n",
            "Tolstoy \t 1.93% correct\n",
            "Wilde \t 98.22% correct\n",
            "Training model: kn with ngram: 1\n",
            "Training LMs... (this may take a while)\n",
            "Evaluating model: kn with ngram: 1\n",
            "Results on dev set:\n",
            "Austen \t 88.77% correct\n",
            "Dickens \t 87.11% correct\n",
            "Tolstoy \t 93.09% correct\n",
            "Wilde \t 89.94% correct\n",
            "Training model: kn with ngram: 2\n",
            "Training LMs... (this may take a while)\n",
            "Evaluating model: kn with ngram: 2\n",
            "Results on dev set:\n",
            "Austen \t 90.37% correct\n",
            "Dickens \t 89.84% correct\n",
            "Tolstoy \t 94.20% correct\n",
            "Wilde \t 85.21% correct\n",
            "Training model: kn with ngram: 3\n",
            "Training LMs... (this may take a while)\n",
            "Evaluating model: kn with ngram: 3\n",
            "Results on dev set:\n",
            "Austen \t 89.84% correct\n",
            "Dickens \t 87.89% correct\n",
            "Tolstoy \t 94.48% correct\n",
            "Wilde \t 81.66% correct\n",
            "Training model: kn with ngram: 4\n",
            "Training LMs... (this may take a while)\n",
            "Evaluating model: kn with ngram: 4\n",
            "Results on dev set:\n",
            "Austen \t 89.84% correct\n",
            "Dickens \t 80.08% correct\n",
            "Tolstoy \t 93.92% correct\n",
            "Wilde \t 76.33% correct\n",
            "Training model: kn with ngram: 5\n",
            "Training LMs... (this may take a while)\n",
            "Evaluating model: kn with ngram: 5\n",
            "Results on dev set:\n",
            "Austen \t 82.89% correct\n",
            "Dickens \t 78.52% correct\n",
            "Tolstoy \t 88.40% correct\n",
            "Wilde \t 68.05% correct\n"
          ]
        }
      ],
      "source": [
        "best_acc = 0\n",
        "best_model = None\n",
        "best_n = None\n",
        "for model in models:\n",
        "    for n in ngrams:\n",
        "        print(\"Training model: \" + model + \" with ngram: \" + str(n))\n",
        "        classifier = ngram_authorship_classifier.NgramAuthorshipClassifier(smoothing=model,n=n)\n",
        "        classifier.train(authors_train_data)\n",
        "        print(\"Evaluating model: \" + model + \" with ngram: \" + str(n))\n",
        "        avg_acc = classifier.evaluate_devset(authors_test_data, show_accuracy=True)\n",
        "        if avg_acc > best_acc:\n",
        "            best_acc = avg_acc\n",
        "            best_model = model\n",
        "            best_n = n"
      ]
    },
    {
      "cell_type": "markdown",
      "metadata": {},
      "source": [
        "The best performing model is n = 1 with accuracy 93%, but there is a problem in the accuracy function so we computed it manually using the above results for each model & n"
      ]
    },
    {
      "cell_type": "code",
      "execution_count": 23,
      "metadata": {
        "colab": {
          "base_uri": "https://localhost:8080/"
        },
        "id": "6Zdqr2CkZmjd",
        "outputId": "8970cdf8-f123-48bf-ba44-5313b9dbc2f8"
      },
      "outputs": [
        {
          "name": "stdout",
          "output_type": "stream",
          "text": [
            "Best model: lp with ngram: 5 with accuracy: 0.9822485207100592\n"
          ]
        }
      ],
      "source": [
        "print(\"Best model: \" + best_model + \" with ngram: \" + str(best_n) + \" with accuracy: \" + str(best_acc))"
      ]
    },
    {
      "cell_type": "code",
      "execution_count": 25,
      "metadata": {
        "colab": {
          "base_uri": "https://localhost:8080/"
        },
        "id": "xarOT4WQXyd4",
        "outputId": "200b3ce3-9784-44e6-f0a8-7443fc903637"
      },
      "outputs": [
        {
          "name": "stdout",
          "output_type": "stream",
          "text": [
            "Training LMs... (this may take a while)\n",
            "\n",
            "\n",
            "Top Five Most common features for authors \n",
            "\n",
            "Top features for Austen:\n",
            "  (',',) -> 8683 times\n",
            "  ('.',) -> 4244 times\n",
            "  ('the',) -> 3752 times\n",
            "  ('to',) -> 3645 times\n",
            "  ('of',) -> 3244 times\n",
            "Top features for Dickens:\n",
            "  (',',) -> 10806 times\n",
            "  ('.',) -> 4472 times\n",
            "  ('the',) -> 4403 times\n",
            "  ('and',) -> 3482 times\n",
            "  ('I',) -> 3231 times\n",
            "Top features for Tolstoy:\n",
            "  (',',) -> 13075 times\n",
            "  ('the',) -> 8187 times\n",
            "  ('.',) -> 7255 times\n",
            "  ('and',) -> 5671 times\n",
            "  ('to',) -> 4578 times\n",
            "Top features for Wilde:\n",
            "  (',',) -> 6289 times\n",
            "  ('.',) -> 5067 times\n",
            "  ('the',) -> 3972 times\n",
            "  ('and',) -> 2492 times\n",
            "  ('of',) -> 2389 times\n"
          ]
        }
      ],
      "source": [
        "classifier = ngram_authorship_classifier.NgramAuthorshipClassifier(smoothing=\"lp\",n=1)\n",
        "classifier.train(authors_train_data)\n",
        "\n",
        "\n",
        "\n",
        "top_features = classifier.get_top_features(top_k=5)\n",
        "print(\"\\n\")\n",
        "print(\"Top Five Most common features for authors \\n\")\n",
        "\n",
        "for author, features in top_features.items():\n",
        "    print(f\"Top features for {author}:\")\n",
        "    for ngram, count in features:\n",
        "        print(f\"  {ngram} -> {count} times\")"
      ]
    }
  ],
  "metadata": {
    "accelerator": "GPU",
    "colab": {
      "gpuType": "L4",
      "machine_shape": "hm",
      "provenance": []
    },
    "kernelspec": {
      "display_name": "Python 3",
      "name": "python3"
    },
    "language_info": {
      "codemirror_mode": {
        "name": "ipython",
        "version": 3
      },
      "file_extension": ".py",
      "mimetype": "text/x-python",
      "name": "python",
      "nbconvert_exporter": "python",
      "pygments_lexer": "ipython3",
      "version": "3.12.7"
    }
  },
  "nbformat": 4,
  "nbformat_minor": 0
}
