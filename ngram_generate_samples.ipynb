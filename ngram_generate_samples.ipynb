{
 "cells": [
  {
   "cell_type": "code",
   "execution_count": 7,
   "metadata": {},
   "outputs": [],
   "source": [
    "from data_processor import DataProcessor\n",
    "import ngram_authorship_classifier as nac\n",
    "import os\n",
    "import json"
   ]
  },
  {
   "cell_type": "code",
   "execution_count": 8,
   "metadata": {},
   "outputs": [],
   "source": [
    "prompts = [\"The lady\", \"he thought\", \"I cannot\", \"she was\", \"the world\" ]\n",
    "\n",
    "author_prompt = dict()"
   ]
  },
  {
   "cell_type": "markdown",
   "metadata": {},
   "source": [
    "### Load the data"
   ]
  },
  {
   "cell_type": "code",
   "execution_count": 9,
   "metadata": {},
   "outputs": [],
   "source": [
    "data_dir = \"ngram_authorship_train\""
   ]
  },
  {
   "cell_type": "code",
   "execution_count": 10,
   "metadata": {},
   "outputs": [
    {
     "name": "stderr",
     "output_type": "stream",
     "text": [
      "c:\\Users\\Yassin\\Desktop\\NLP\\Homeworks\\HW3\\.venv\\lib\\site-packages\\tqdm\\auto.py:21: TqdmWarning: IProgress not found. Please update jupyter and ipywidgets. See https://ipywidgets.readthedocs.io/en/stable/user_install.html\n",
      "  from .autonotebook import tqdm as notebook_tqdm\n"
     ]
    },
    {
     "name": "stdout",
     "output_type": "stream",
     "text": [
      "Processing data for author: Austen\n",
      "Processing data for author: Dickens\n",
      "Processing data for author: Tolstoy\n",
      "Processing data for author: Wilde\n"
     ]
    }
   ],
   "source": [
    "author_files = [\"austen_utf8.txt\",\"dickens_utf8.txt\",\"tolstoy_utf8.txt\",\"wilde_utf8.txt\"]\n",
    "author_names = [\"Austen\",\"Dickens\",\"Tolstoy\",\"Wilde\"]\n",
    "\n",
    "data_proc = DataProcessor()\n",
    "\n",
    "authors_train_data = dict()\n",
    "authors_test_data = dict()\n",
    "for i in range(len(author_files)):\n",
    "    print(\"Processing data for author: \" + author_names[i])\n",
    "    trainset,_ = data_proc.process_file(os.path.join(data_dir, author_files[i]))\n",
    "    authors_train_data[author_names[i]] = trainset\n"
   ]
  },
  {
   "cell_type": "markdown",
   "metadata": {},
   "source": [
    "### Instantiate the models"
   ]
  },
  {
   "cell_type": "code",
   "execution_count": 11,
   "metadata": {},
   "outputs": [],
   "source": [
    "model1 = nac.NgramAuthorshipClassifier(n=1, smoothing = 'lp')\n",
    "model2 = nac.NgramAuthorshipClassifier(n=2, smoothing = 'lp')\n",
    "model3 = nac.NgramAuthorshipClassifier(n=3, smoothing = 'lp')"
   ]
  },
  {
   "cell_type": "markdown",
   "metadata": {},
   "source": [
    "### Train the model"
   ]
  },
  {
   "cell_type": "code",
   "execution_count": 12,
   "metadata": {},
   "outputs": [
    {
     "name": "stdout",
     "output_type": "stream",
     "text": [
      "Training Unigram Model...\n",
      "Training LMs... (this may take a while)\n"
     ]
    }
   ],
   "source": [
    "print(\"Training Unigram Model...\")\n",
    "model1.train(authors_train_data)"
   ]
  },
  {
   "cell_type": "code",
   "execution_count": 13,
   "metadata": {},
   "outputs": [
    {
     "name": "stdout",
     "output_type": "stream",
     "text": [
      "Training Bigram Model...\n",
      "Training LMs... (this may take a while)\n"
     ]
    }
   ],
   "source": [
    "print(\"Training Bigram Model...\")\n",
    "model2.train(authors_train_data)"
   ]
  },
  {
   "cell_type": "code",
   "execution_count": 14,
   "metadata": {},
   "outputs": [
    {
     "name": "stdout",
     "output_type": "stream",
     "text": [
      "Training Trigram Model...\n",
      "Training LMs... (this may take a while)\n"
     ]
    }
   ],
   "source": [
    "print(\"Training Trigram Model...\")\n",
    "model3.train(authors_train_data)"
   ]
  },
  {
   "cell_type": "markdown",
   "metadata": {},
   "source": [
    "Generate samples function"
   ]
  },
  {
   "cell_type": "code",
   "execution_count": 15,
   "metadata": {},
   "outputs": [],
   "source": [
    "def generate_sample_text(authors, prompts,model):\n",
    "    return model.generate_authors_text(authors = authors,prompts= prompts)"
   ]
  },
  {
   "cell_type": "markdown",
   "metadata": {},
   "source": [
    "### Generating samples"
   ]
  },
  {
   "cell_type": "code",
   "execution_count": 16,
   "metadata": {},
   "outputs": [
    {
     "name": "stdout",
     "output_type": "stream",
     "text": [
      "Generating sample text for Unigram Model...\n"
     ]
    }
   ],
   "source": [
    "print(\"Generating sample text for Unigram Model...\")\n",
    "model1_text = generate_sample_text(author_names,prompts,model1)"
   ]
  },
  {
   "cell_type": "code",
   "execution_count": 17,
   "metadata": {},
   "outputs": [
    {
     "name": "stdout",
     "output_type": "stream",
     "text": [
      "Generating sample text for Bigram Model...\n"
     ]
    }
   ],
   "source": [
    "print(\"Generating sample text for Bigram Model...\")\n",
    "model2_text = generate_sample_text(author_names,prompts,model2)"
   ]
  },
  {
   "cell_type": "code",
   "execution_count": 18,
   "metadata": {},
   "outputs": [
    {
     "name": "stdout",
     "output_type": "stream",
     "text": [
      "Generating sample text for Trigram Model...\n"
     ]
    }
   ],
   "source": [
    "print(\"Generating sample text for Trigram Model...\")\n",
    "model3_text = generate_sample_text(author_names,prompts,model3)"
   ]
  },
  {
   "cell_type": "markdown",
   "metadata": {},
   "source": [
    "### Save to files"
   ]
  },
  {
   "cell_type": "code",
   "execution_count": 19,
   "metadata": {},
   "outputs": [],
   "source": [
    "def save_generated_text(text_dict, filename):\n",
    "    with open(filename, \"w\", encoding=\"utf-8\") as f:\n",
    "        json.dump(text_dict, f, indent=4, ensure_ascii=False)\n"
   ]
  },
  {
   "cell_type": "code",
   "execution_count": 20,
   "metadata": {},
   "outputs": [
    {
     "name": "stdout",
     "output_type": "stream",
     "text": [
      "Saving generated text for Unigram Model...\n"
     ]
    }
   ],
   "source": [
    "print(\"Saving generated text for Unigram Model...\")\n",
    "save_generated_text(model1_text, \"model1_text.json\")"
   ]
  },
  {
   "cell_type": "code",
   "execution_count": 23,
   "metadata": {},
   "outputs": [
    {
     "name": "stdout",
     "output_type": "stream",
     "text": [
      "{'Austen': ['The lady did stable about the all of complete know sometimes not glad , imprudence \" the you hedges his My of', 'he thought that fronted , conjecturing a all unhappy can of day ladyship others pleasure mind plainly of , standing ; is', 'I cannot ’s of encumbered , was or in Taylor if home should might out harp that of Knightley augmented result she', 'she was in town be its now in , that no undoubtedly ideas is married been ribbon to , \" go all', 'the world . , it to it triumph a aired every ; to , merits I dependence . played admiration breakfast engaged'], 'Dickens': ['The lady my was are I long lingering no , I delightful . working The was . down “ to felt found', 'he thought an ’ and that . told Oh me that , man make such out and anxious ” advocates in ,', 'I cannot , we start close pattern liberty see with and his Jerry . comical wants application at ’ the desire ,', 'she was her to - could , of It as the , Dreaming appearance the have next was Well from I sweetest', 'the world , posture But had one that glass hid , first comprehend to is sleep fluttered I to the content .'], 'Tolstoy': ['The lady . to and the ten “ the to ’s the building began Andrew forming Nicholas people . estate the she', 'he thought your Dutch , ” Rostóv ? on come utterly again — breathing my window proportion which running , unconsciously middle', 'I cannot , who which him The Yes , amenable “ ; And wide bring womanly sit glance to good sense turning', 'she was is interests Bending that Orders had hotel very before Insufferably , think had had . with something utter which door', 'the world his Levin continued the remarked Mademoiselle up to , offered doors . brawler officer . brushed question alive tossed look'], 'Wilde': ['The lady lying Mr. it New Upstairs by in pursuit tried it Saturday florins ! more strange in your were the he', 'he thought leaves , them You - . stove a are it chattering Sanguineous his Dorian and that there one in to', 'I cannot you of for them The got ’ a Think left in be your Rawlings parts was in . to again', 'she was who fellow me contain red of , it them trouvaille carbuncles and dear bending , of lined woman the Personally', 'the world better , conversation . the and Elector looking vague was at go had leave preceding could Good , were refined']}\n"
     ]
    }
   ],
   "source": [
    "print(model1_text)"
   ]
  },
  {
   "cell_type": "code",
   "execution_count": 21,
   "metadata": {},
   "outputs": [
    {
     "name": "stdout",
     "output_type": "stream",
     "text": [
      "Saving generated text for Bigram Model...\n"
     ]
    }
   ],
   "source": [
    "print(\"Saving generated text for Bigram Model...\")\n",
    "save_generated_text(model2_text, \"model2_text.json\")"
   ]
  },
  {
   "cell_type": "code",
   "execution_count": 24,
   "metadata": {},
   "outputs": [
    {
     "name": "stdout",
     "output_type": "stream",
     "text": [
      "{'Austen': ['The lady ! the value ; and with them to provocation . Frank Churchill , from the conviction that your friends ,', 'he thought her friend by his behaviour to what any hesitation in fortune ; as mine was not know better . ”', 'I cannot -- about her expectation and eaten very little projected ball , </s> will only given and very kind attention particularly', 'she was sorry for ; and body can suppose Mr. Knightley came on the profits of scrutinies , \" but I heard', 'the world to find he had every thing could surpass . There is cast down at my terms they were to contend'], 'Dickens': ['The lady . ” If his own mind . I do you , ” </s> sound of entertaining me how natural feeling', 'he thought of keeping guard , risen against all ? Up to anatomise his face to defy competition there , if I', 'I cannot appertaining to - wind which you any displeasure ; and I say I thought she held forth a bawling and', 'she was silent and freshness pouring out of the stone face upon the crust being billeted in among themselves with it ,', 'the world . It was desirable a ugly customer to open at high caste , who was hard pressure in a mender'], 'Tolstoy': ['The lady next part of the land ? ” </s> princess sank , she wrote the crops , his drooping pistol .', 'he thought of well wrapped up “ Please come over nearly forty to balls and gestures told him . He stayed longer', 'I cannot now he could not begin croquet ground that had been able to him along , ” said the truth ?', 'she was a weal . </s> ring on the Emperor Francis ’ backs of happy eyes , the rows , and raised', 'the world , in reality shot a landowner , and the surplus left that to Prince Vasíli . Most of supporting him'], 'Wilde': ['The lady ’s black armour piled another cigarette . “ I refuse . ” </s> H. must not rest , does money', 'he thought of sin ; I finish my own face very much more exquisite specimens that he was very fond of acute', 'I cannot <s> ‘ Perdition seize the silliness of a type and parrot - fifteen volumes .   I fear in it', 'she was after him shyly from the house of murky orange - barrel . ” </s> and that are born artist and', 'the world as though he drew them of sweet , crouching by chance he gnawed nervously , looked very latest _ grande']}\n"
     ]
    }
   ],
   "source": [
    "print(model2_text)"
   ]
  },
  {
   "cell_type": "code",
   "execution_count": 22,
   "metadata": {},
   "outputs": [
    {
     "name": "stdout",
     "output_type": "stream",
     "text": [
      "Saving generated text for Trigram Model...\n"
     ]
    }
   ],
   "source": [
    "print(\"Saving generated text for Trigram Model...\")\n",
    "save_generated_text(model3_text, \"model3_text.json\")"
   ]
  },
  {
   "cell_type": "code",
   "execution_count": 25,
   "metadata": {},
   "outputs": [
    {
     "name": "stdout",
     "output_type": "stream",
     "text": [
      "{'Austen': ['The lady then — only we do indeed . She was pleased ; and I are both exceedingly well married , whether', 'he thought of Mrs. Ferrars;—that her interest , and walked in with a “ Yes I should never hear it ! </s>', 'I cannot -- I have heard her mentioned ; except that such extreme and perpetual cautiousness of conduct , and more than', 'she was much affection in the solitude of her still well enough , handsome , and they were engaged about the time', 'the world . You see how it might be secured for the arrangement . </s> </s> </s> </s> </s> </s> </s> </s>'], 'Dickens': ['The lady and gentleman beside her till she was from the knitted register of Madame Defarge ’s olfactory sense was by that', 'he thought the simple confidence reposed in us by the window , looking over his evidence , and looking pensively at me', 'I cannot chose ; and entertained us with pride , as well as ever . </s> </s> </s> </s> </s> </s> </s>', 'she was wiping her eyes ; and that made their last journey to Blunderstone now ? ’ </s> </s> </s> </s> </s>', 'the world know nothing . While he was very interesting to me , oh me ! I almost wish I were unfettered'], 'Tolstoy': ['The lady smiled a strange fate , ready to drop behind the chairs was dashing straight at her father had consented without', 'he thought . “ Kitty , even row of grass . She could not help thinking of her might be defined .', 'I cannot now be altered , and the bailiff had learned , but too low . We rent a bit ! ”', 'she was going out somewhere again . </s> </s> </s> </s> </s> </s> </s> </s> </s> </s> </s> </s> </s> </s> </s>', 'the world continued its course independently of everything was suddenly lit up from the club . Pierre did not respect or did'], 'Wilde': ['The lady in question is a very short time ; but after dinner . He seemed to him . </s> </s> </s>', 'he thought it was better to be on his own room in such a noise , so you might have been subjected', 'I cannot he said in Basil Hallward ’s garden had first analyzed it ? ’ said the lad harshly . </s> </s>', 'she was sitting by the last house in every age and in italics , and does nothing but shadows , and the', 'the world who is pouring out tea for us . ’ </s> </s> </s> </s> </s> </s> </s> </s> </s> </s> </s>']}\n"
     ]
    }
   ],
   "source": [
    "print(model3_text)"
   ]
  },
  {
   "cell_type": "code",
   "execution_count": null,
   "metadata": {},
   "outputs": [],
   "source": []
  }
 ],
 "metadata": {
  "kernelspec": {
   "display_name": ".venv",
   "language": "python",
   "name": "python3"
  },
  "language_info": {
   "codemirror_mode": {
    "name": "ipython",
    "version": 3
   },
   "file_extension": ".py",
   "mimetype": "text/x-python",
   "name": "python",
   "nbconvert_exporter": "python",
   "pygments_lexer": "ipython3",
   "version": "3.10.0"
  }
 },
 "nbformat": 4,
 "nbformat_minor": 2
}
