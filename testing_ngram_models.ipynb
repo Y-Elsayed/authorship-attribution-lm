{
 "cells": [
  {
   "cell_type": "markdown",
   "metadata": {},
   "source": [
    "In this Notebook I will test different models with different N to check which one produces the best results"
   ]
  },
  {
   "cell_type": "code",
   "execution_count": 1,
   "metadata": {},
   "outputs": [],
   "source": [
    "from data_processor import DataProcessor\n",
    "import ngram_authorship_classifier\n",
    "import os\n",
    "from dotenv import load_dotenv"
   ]
  },
  {
   "cell_type": "markdown",
   "metadata": {},
   "source": [
    "Load Data"
   ]
  },
  {
   "cell_type": "code",
   "execution_count": 3,
   "metadata": {},
   "outputs": [],
   "source": [
    "load_dotenv()\n",
    "data_dir = os.getenv('TRAIN_DATA_PATH')"
   ]
  },
  {
   "cell_type": "code",
   "execution_count": 4,
   "metadata": {},
   "outputs": [
    {
     "name": "stderr",
     "output_type": "stream",
     "text": [
      "c:\\Users\\Yassin\\Desktop\\NLP\\Homeworks\\HW3\\.venv\\Lib\\site-packages\\tqdm\\auto.py:21: TqdmWarning: IProgress not found. Please update jupyter and ipywidgets. See https://ipywidgets.readthedocs.io/en/stable/user_install.html\n",
      "  from .autonotebook import tqdm as notebook_tqdm\n"
     ]
    },
    {
     "name": "stdout",
     "output_type": "stream",
     "text": [
      "Processing data for author: Austen\n",
      "Splitting into training and development...\n",
      "Processing data for author: Dickens\n",
      "Splitting into training and development...\n",
      "Processing data for author: Tolstoy\n",
      "Splitting into training and development...\n",
      "Processing data for author: Wilde\n",
      "Splitting into training and development...\n"
     ]
    }
   ],
   "source": [
    "author_files = [\"austen_utf8.txt\",\"dickens_utf8.txt\",\"tolstoy_utf8.txt\",\"wilde_utf8.txt\"]\n",
    "author_names = [\"Austen\",\"Dickens\",\"Tolstoy\",\"Wilde\"]\n",
    "\n",
    "data_proc = DataProcessor()\n",
    "\n",
    "authors_train_data = dict()\n",
    "authors_test_data = dict()\n",
    "for i in range(len(author_files)):\n",
    "    print(\"Processing data for author: \" + author_names[i])\n",
    "    trainset,devset = data_proc.process_split_file(os.path.join(data_dir, author_files[i]))\n",
    "    authors_train_data[author_names[i]] = trainset\n",
    "    authors_test_data[author_names[i]] = devset\n"
   ]
  },
  {
   "cell_type": "markdown",
   "metadata": {},
   "source": [
    "Trying different combinations"
   ]
  },
  {
   "cell_type": "code",
   "execution_count": 44,
   "metadata": {},
   "outputs": [],
   "source": [
    "models = [\"mle\",\"sb\",\"lp\",\"kn\"]\n",
    "ngrams = [1,2,3,4,5]"
   ]
  },
  {
   "cell_type": "code",
   "execution_count": 35,
   "metadata": {},
   "outputs": [
    {
     "name": "stdout",
     "output_type": "stream",
     "text": [
      "dict_keys(['Austen', 'Dickens', 'Tolstoy', 'Wilde'])\n"
     ]
    }
   ],
   "source": [
    "print(authors_test_data.keys())"
   ]
  },
  {
   "cell_type": "markdown",
   "metadata": {},
   "source": [
    "Evaluating the Different Combinations"
   ]
  },
  {
   "cell_type": "code",
   "execution_count": 53,
   "metadata": {},
   "outputs": [
    {
     "data": {
      "text/plain": [
       "<module 'ngram_authorship_classifier' from 'c:\\\\Users\\\\Yassin\\\\Desktop\\\\NLP\\\\Homeworks\\\\HW3\\\\ngram_authorship_classifier.py'>"
      ]
     },
     "execution_count": 53,
     "metadata": {},
     "output_type": "execute_result"
    }
   ],
   "source": [
    "import importlib\n",
    "importlib.reload(ngram_authorship_classifier)"
   ]
  },
  {
   "cell_type": "code",
   "execution_count": 54,
   "metadata": {},
   "outputs": [
    {
     "name": "stdout",
     "output_type": "stream",
     "text": [
      "Training model: mle with ngram: 1\n",
      "Training LMs... (this may take a while)\n",
      "Evaluating model: mle with ngram: 1\n",
      "Results on dev set:\n",
      "Austen \t 0.93 correct\n",
      "Dickens \t 0.37 correct\n",
      "Tolstoy \t 0.45 correct\n",
      "Wilde \t 0.40 correct\n",
      "Training model: mle with ngram: 2\n",
      "Training LMs... (this may take a while)\n",
      "Evaluating model: mle with ngram: 2\n",
      "Results on dev set:\n",
      "Austen \t 0.99 correct\n",
      "Dickens \t 0.05 correct\n",
      "Tolstoy \t 0.02 correct\n",
      "Wilde \t 0.04 correct\n",
      "Training model: mle with ngram: 3\n",
      "Training LMs... (this may take a while)\n",
      "Evaluating model: mle with ngram: 3\n",
      "Results on dev set:\n",
      "Austen \t 1.00 correct\n",
      "Dickens \t 0.02 correct\n",
      "Tolstoy \t 0.01 correct\n",
      "Wilde \t 0.01 correct\n",
      "Training model: mle with ngram: 4\n",
      "Training LMs... (this may take a while)\n",
      "Evaluating model: mle with ngram: 4\n",
      "Results on dev set:\n",
      "Austen \t 1.00 correct\n",
      "Dickens \t 0.01 correct\n",
      "Tolstoy \t 0.01 correct\n",
      "Wilde \t 0.01 correct\n",
      "Training model: mle with ngram: 5\n",
      "Training LMs... (this may take a while)\n",
      "Evaluating model: mle with ngram: 5\n",
      "Results on dev set:\n",
      "Austen \t 1.00 correct\n",
      "Dickens \t 0.01 correct\n",
      "Tolstoy \t 0.00 correct\n",
      "Wilde \t 0.01 correct\n",
      "Training model: sb with ngram: 1\n",
      "Training LMs... (this may take a while)\n",
      "Evaluating model: sb with ngram: 1\n",
      "Results on dev set:\n",
      "Austen \t 0.93 correct\n",
      "Dickens \t 0.37 correct\n",
      "Tolstoy \t 0.45 correct\n",
      "Wilde \t 0.40 correct\n",
      "Training model: sb with ngram: 2\n",
      "Training LMs... (this may take a while)\n",
      "Evaluating model: sb with ngram: 2\n",
      "Results on dev set:\n",
      "Austen \t 0.95 correct\n",
      "Dickens \t 0.38 correct\n",
      "Tolstoy \t 0.45 correct\n",
      "Wilde \t 0.38 correct\n",
      "Training model: sb with ngram: 3\n",
      "Training LMs... (this may take a while)\n",
      "Evaluating model: sb with ngram: 3\n",
      "Results on dev set:\n",
      "Austen \t 0.93 correct\n",
      "Dickens \t 0.39 correct\n",
      "Tolstoy \t 0.48 correct\n",
      "Wilde \t 0.38 correct\n",
      "Training model: sb with ngram: 4\n",
      "Training LMs... (this may take a while)\n",
      "Evaluating model: sb with ngram: 4\n",
      "Results on dev set:\n",
      "Austen \t 0.94 correct\n",
      "Dickens \t 0.40 correct\n",
      "Tolstoy \t 0.48 correct\n",
      "Wilde \t 0.36 correct\n",
      "Training model: sb with ngram: 5\n",
      "Training LMs... (this may take a while)\n",
      "Evaluating model: sb with ngram: 5\n",
      "Results on dev set:\n",
      "Austen \t 0.95 correct\n",
      "Dickens \t 0.42 correct\n",
      "Tolstoy \t 0.46 correct\n",
      "Wilde \t 0.35 correct\n",
      "Training model: lp with ngram: 1\n",
      "Training LMs... (this may take a while)\n",
      "Evaluating model: lp with ngram: 1\n",
      "Results on dev set:\n",
      "Austen \t 0.91 correct\n",
      "Dickens \t 0.87 correct\n",
      "Tolstoy \t 0.92 correct\n",
      "Wilde \t 0.93 correct\n",
      "Training model: lp with ngram: 2\n",
      "Training LMs... (this may take a while)\n",
      "Evaluating model: lp with ngram: 2\n",
      "Results on dev set:\n",
      "Austen \t 0.96 correct\n",
      "Dickens \t 0.68 correct\n",
      "Tolstoy \t 0.84 correct\n",
      "Wilde \t 0.70 correct\n",
      "Training model: lp with ngram: 3\n",
      "Training LMs... (this may take a while)\n",
      "Evaluating model: lp with ngram: 3\n",
      "Results on dev set:\n",
      "Austen \t 0.98 correct\n",
      "Dickens \t 0.43 correct\n",
      "Tolstoy \t 0.35 correct\n",
      "Wilde \t 0.51 correct\n",
      "Training model: lp with ngram: 4\n",
      "Training LMs... (this may take a while)\n",
      "Evaluating model: lp with ngram: 4\n",
      "Results on dev set:\n",
      "Austen \t 0.99 correct\n",
      "Dickens \t 0.20 correct\n",
      "Tolstoy \t 0.08 correct\n",
      "Wilde \t 0.23 correct\n",
      "Training model: lp with ngram: 5\n",
      "Training LMs... (this may take a while)\n",
      "Evaluating model: lp with ngram: 5\n",
      "Results on dev set:\n",
      "Austen \t 1.00 correct\n",
      "Dickens \t 0.07 correct\n",
      "Tolstoy \t 0.01 correct\n",
      "Wilde \t 0.06 correct\n",
      "Training model: kn with ngram: 1\n",
      "Training LMs... (this may take a while)\n",
      "Evaluating model: kn with ngram: 1\n",
      "Results on dev set:\n",
      "Austen \t 1.00 correct\n",
      "Dickens \t 0.00 correct\n",
      "Tolstoy \t 0.00 correct\n",
      "Wilde \t 0.00 correct\n",
      "Training model: kn with ngram: 2\n",
      "Training LMs... (this may take a while)\n",
      "Evaluating model: kn with ngram: 2\n",
      "Results on dev set:\n",
      "Austen \t 0.94 correct\n",
      "Dickens \t 0.38 correct\n",
      "Tolstoy \t 0.45 correct\n",
      "Wilde \t 0.37 correct\n",
      "Training model: kn with ngram: 3\n",
      "Training LMs... (this may take a while)\n",
      "Evaluating model: kn with ngram: 3\n",
      "Results on dev set:\n",
      "Austen \t 0.93 correct\n",
      "Dickens \t 0.40 correct\n",
      "Tolstoy \t 0.48 correct\n",
      "Wilde \t 0.37 correct\n",
      "Training model: kn with ngram: 4\n",
      "Training LMs... (this may take a while)\n",
      "Evaluating model: kn with ngram: 4\n",
      "Results on dev set:\n",
      "Austen \t 0.93 correct\n",
      "Dickens \t 0.39 correct\n",
      "Tolstoy \t 0.47 correct\n",
      "Wilde \t 0.36 correct\n",
      "Training model: kn with ngram: 5\n",
      "Training LMs... (this may take a while)\n",
      "Evaluating model: kn with ngram: 5\n",
      "Results on dev set:\n",
      "Austen \t 0.94 correct\n",
      "Dickens \t 0.41 correct\n",
      "Tolstoy \t 0.46 correct\n",
      "Wilde \t 0.34 correct\n"
     ]
    }
   ],
   "source": [
    "best_acc = 0\n",
    "best_model = None\n",
    "best_n = None\n",
    "for model in models:\n",
    "    for n in ngrams:\n",
    "        print(\"Training model: \" + model + \" with ngram: \" + str(n))\n",
    "        classifier = ngram_authorship_classifier.NgramAuthorshipClassifier(smoothing=model,n=n)\n",
    "        classifier.train(authors_train_data)\n",
    "        print(\"Evaluating model: \" + model + \" with ngram: \" + str(n))\n",
    "        avg_acc = classifier.evaluate_devset(authors_test_data, show_accuracy=True)\n",
    "        if avg_acc > best_acc:\n",
    "            best_acc = avg_acc\n",
    "            best_model = model\n",
    "            best_n = n"
   ]
  },
  {
   "cell_type": "code",
   "execution_count": 55,
   "metadata": {},
   "outputs": [
    {
     "name": "stdout",
     "output_type": "stream",
     "text": [
      "Best model: lp with ngram: 1 with accuracy: 0.9289940828402367\n"
     ]
    }
   ],
   "source": [
    "print(\"Best model: \" + best_model + \" with ngram: \" + str(best_n) + \" with accuracy: \" + str(best_acc))"
   ]
  }
 ],
 "metadata": {
  "kernelspec": {
   "display_name": ".venv",
   "language": "python",
   "name": "python3"
  },
  "language_info": {
   "codemirror_mode": {
    "name": "ipython",
    "version": 3
   },
   "file_extension": ".py",
   "mimetype": "text/x-python",
   "name": "python",
   "nbconvert_exporter": "python",
   "pygments_lexer": "ipython3",
   "version": "3.12.7"
  }
 },
 "nbformat": 4,
 "nbformat_minor": 2
}
