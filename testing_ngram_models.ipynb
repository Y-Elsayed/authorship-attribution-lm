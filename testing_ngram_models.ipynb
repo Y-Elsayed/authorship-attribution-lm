{
  "cells": [
    {
      "cell_type": "markdown",
      "metadata": {
        "id": "2Rs4ptu1ZmjT"
      },
      "source": [
        "In this Notebook I will test different models with different N to check which one produces the best results"
      ]
    },
    {
      "cell_type": "code",
      "execution_count": 18,
      "metadata": {
        "id": "mIih4T4sZmjW"
      },
      "outputs": [],
      "source": [
        "from data_processor import DataProcessor\n",
        "import ngram_authorship_classifier\n",
        "import os\n",
        "from dotenv import load_dotenv"
      ]
    },
    {
      "cell_type": "markdown",
      "metadata": {
        "id": "14OZy05gZmjX"
      },
      "source": [
        "Load Data"
      ]
    },
    {
      "cell_type": "code",
      "execution_count": 2,
      "metadata": {
        "colab": {
          "base_uri": "https://localhost:8080/"
        },
        "id": "6ynNmALhZmjY",
        "outputId": "8dbaffcb-cb99-40d5-84e0-85f0fbc4601e"
      },
      "outputs": [],
      "source": [
        "load_dotenv()\n",
        "data_dir = os.getenv('TRAIN_DATA_PATH')"
      ]
    },
    {
      "cell_type": "code",
      "execution_count": 3,
      "metadata": {
        "colab": {
          "base_uri": "https://localhost:8080/"
        },
        "id": "Fxk3VmDhZmjY",
        "outputId": "3af4f97c-dac0-4e36-9a57-f65a88350e5a"
      },
      "outputs": [
        {
          "name": "stderr",
          "output_type": "stream",
          "text": [
            "c:\\Users\\Yassin\\Desktop\\NLP\\Homeworks\\HW3\\.venv\\lib\\site-packages\\tqdm\\auto.py:21: TqdmWarning: IProgress not found. Please update jupyter and ipywidgets. See https://ipywidgets.readthedocs.io/en/stable/user_install.html\n",
            "  from .autonotebook import tqdm as notebook_tqdm\n"
          ]
        },
        {
          "name": "stdout",
          "output_type": "stream",
          "text": [
            "Processing data for author: Austen\n",
            "Splitting into training and development...\n",
            "Processing data for author: Dickens\n",
            "Splitting into training and development...\n",
            "Processing data for author: Tolstoy\n",
            "Splitting into training and development...\n",
            "Processing data for author: Wilde\n",
            "Splitting into training and development...\n"
          ]
        }
      ],
      "source": [
        "author_files = [\"austen_utf8.txt\",\"dickens_utf8.txt\",\"tolstoy_utf8.txt\",\"wilde_utf8.txt\"]\n",
        "author_names = [\"Austen\",\"Dickens\",\"Tolstoy\",\"Wilde\"]\n",
        "\n",
        "data_proc = DataProcessor()\n",
        "\n",
        "authors_train_data = dict()\n",
        "authors_test_data = dict()\n",
        "for i in range(len(author_files)):\n",
        "    print(\"Processing data for author: \" + author_names[i])\n",
        "    trainset, devset = data_proc.process_split_file(os.path.join(data_dir, author_files[i]))\n",
        "    authors_train_data[author_names[i]] = trainset\n",
        "    authors_test_data[author_names[i]] = devset\n"
      ]
    },
    {
      "cell_type": "markdown",
      "metadata": {
        "id": "lEDYGO7iZmja"
      },
      "source": [
        "Trying different combinations"
      ]
    },
    {
      "cell_type": "code",
      "execution_count": 4,
      "metadata": {
        "id": "ci5xht-fZmja"
      },
      "outputs": [],
      "source": [
        "models = [\"mle\",\"sb\",\"lp\",\"kn\"]\n",
        "ngrams = [1,2,3,4,5]"
      ]
    },
    {
      "cell_type": "code",
      "execution_count": 5,
      "metadata": {
        "colab": {
          "base_uri": "https://localhost:8080/"
        },
        "id": "2l6lriqlZmjb",
        "outputId": "8b5c406b-27a3-4244-ffbf-5016b4275a09"
      },
      "outputs": [
        {
          "name": "stdout",
          "output_type": "stream",
          "text": [
            "dict_keys(['Austen', 'Dickens', 'Tolstoy', 'Wilde'])\n"
          ]
        }
      ],
      "source": [
        "print(authors_test_data.keys())"
      ]
    },
    {
      "cell_type": "markdown",
      "metadata": {
        "id": "4zLZotCnZmjb"
      },
      "source": [
        "Evaluating the Different Combinations"
      ]
    },
    {
      "cell_type": "code",
      "execution_count": 6,
      "metadata": {
        "colab": {
          "base_uri": "https://localhost:8080/"
        },
        "id": "Bb2zPPapZmjc",
        "outputId": "0bd7b40e-a10d-4b05-c0a2-c36e148e9e28"
      },
      "outputs": [
        {
          "data": {
            "text/plain": [
              "<module 'ngram_authorship_classifier' from 'c:\\\\Users\\\\Yassin\\\\Desktop\\\\NLP\\\\Homeworks\\\\HW3\\\\ngram_authorship_classifier.py'>"
            ]
          },
          "execution_count": 6,
          "metadata": {},
          "output_type": "execute_result"
        }
      ],
      "source": [
        "import importlib\n",
        "importlib.reload(ngram_authorship_classifier)"
      ]
    },
    {
      "cell_type": "code",
      "execution_count": 7,
      "metadata": {
        "colab": {
          "base_uri": "https://localhost:8080/"
        },
        "id": "yk2WGhZrZmjc",
        "outputId": "065f17cc-953b-4270-ecd2-5e15bb257165"
      },
      "outputs": [
        {
          "name": "stdout",
          "output_type": "stream",
          "text": [
            "Training model: mle with ngram: 1\n",
            "Training LMs... (this may take a while)\n",
            "Evaluating model: mle with ngram: 1\n",
            "Results on dev set:\n",
            "Austen \t 88.77% correct\n",
            "Dickens \t 87.11% correct\n",
            "Tolstoy \t 93.09% correct\n",
            "Wilde \t 89.94% correct\n",
            "Training model: mle with ngram: 2\n",
            "Training LMs... (this may take a while)\n",
            "Evaluating model: mle with ngram: 2\n",
            "Results on dev set:\n",
            "Austen \t 89.84% correct\n",
            "Dickens \t 84.77% correct\n",
            "Tolstoy \t 92.82% correct\n",
            "Wilde \t 79.88% correct\n",
            "Training model: mle with ngram: 3\n",
            "Training LMs... (this may take a while)\n",
            "Evaluating model: mle with ngram: 3\n",
            "Results on dev set:\n",
            "Austen \t 86.63% correct\n",
            "Dickens \t 79.69% correct\n",
            "Tolstoy \t 92.54% correct\n",
            "Wilde \t 71.60% correct\n",
            "Training model: mle with ngram: 4\n",
            "Training LMs... (this may take a while)\n",
            "Evaluating model: mle with ngram: 4\n",
            "Results on dev set:\n",
            "Austen \t 79.68% correct\n",
            "Dickens \t 75.78% correct\n",
            "Tolstoy \t 85.91% correct\n",
            "Wilde \t 63.91% correct\n",
            "Training model: mle with ngram: 5\n",
            "Training LMs... (this may take a while)\n",
            "Evaluating model: mle with ngram: 5\n",
            "Results on dev set:\n",
            "Austen \t 70.05% correct\n",
            "Dickens \t 71.48% correct\n",
            "Tolstoy \t 78.45% correct\n",
            "Wilde \t 64.50% correct\n",
            "Training model: sb with ngram: 1\n",
            "Training LMs... (this may take a while)\n",
            "Evaluating model: sb with ngram: 1\n",
            "Results on dev set:\n",
            "Austen \t 88.77% correct\n",
            "Dickens \t 87.11% correct\n",
            "Tolstoy \t 93.09% correct\n",
            "Wilde \t 89.94% correct\n",
            "Training model: sb with ngram: 2\n",
            "Training LMs... (this may take a while)\n",
            "Evaluating model: sb with ngram: 2\n",
            "Results on dev set:\n",
            "Austen \t 89.84% correct\n",
            "Dickens \t 84.77% correct\n",
            "Tolstoy \t 92.82% correct\n",
            "Wilde \t 79.88% correct\n",
            "Training model: sb with ngram: 3\n",
            "Training LMs... (this may take a while)\n",
            "Evaluating model: sb with ngram: 3\n",
            "Results on dev set:\n",
            "Austen \t 86.63% correct\n",
            "Dickens \t 79.69% correct\n",
            "Tolstoy \t 92.54% correct\n",
            "Wilde \t 71.60% correct\n",
            "Training model: sb with ngram: 4\n",
            "Training LMs... (this may take a while)\n",
            "Evaluating model: sb with ngram: 4\n",
            "Results on dev set:\n",
            "Austen \t 79.68% correct\n",
            "Dickens \t 75.78% correct\n",
            "Tolstoy \t 85.91% correct\n",
            "Wilde \t 63.91% correct\n",
            "Training model: sb with ngram: 5\n",
            "Training LMs... (this may take a while)\n",
            "Evaluating model: sb with ngram: 5\n",
            "Results on dev set:\n",
            "Austen \t 70.05% correct\n",
            "Dickens \t 71.48% correct\n",
            "Tolstoy \t 78.45% correct\n",
            "Wilde \t 64.50% correct\n",
            "Training model: lp with ngram: 1\n",
            "Training LMs... (this may take a while)\n",
            "Evaluating model: lp with ngram: 1\n",
            "Results on dev set:\n",
            "Austen \t 91.44% correct\n",
            "Dickens \t 87.89% correct\n",
            "Tolstoy \t 92.27% correct\n",
            "Wilde \t 92.90% correct\n",
            "Training model: lp with ngram: 2\n",
            "Training LMs... (this may take a while)\n",
            "Evaluating model: lp with ngram: 2\n",
            "Results on dev set:\n",
            "Austen \t 94.12% correct\n",
            "Dickens \t 87.50% correct\n",
            "Tolstoy \t 83.98% correct\n",
            "Wilde \t 92.31% correct\n",
            "Training model: lp with ngram: 3\n",
            "Training LMs... (this may take a while)\n",
            "Evaluating model: lp with ngram: 3\n",
            "Results on dev set:\n",
            "Austen \t 42.25% correct\n",
            "Dickens \t 58.20% correct\n",
            "Tolstoy \t 17.68% correct\n",
            "Wilde \t 95.86% correct\n",
            "Training model: lp with ngram: 4\n",
            "Training LMs... (this may take a while)\n",
            "Evaluating model: lp with ngram: 4\n",
            "Results on dev set:\n",
            "Austen \t 13.37% correct\n",
            "Dickens \t 28.91% correct\n",
            "Tolstoy \t 4.14% correct\n",
            "Wilde \t 97.63% correct\n",
            "Training model: lp with ngram: 5\n",
            "Training LMs... (this may take a while)\n",
            "Evaluating model: lp with ngram: 5\n",
            "Results on dev set:\n",
            "Austen \t 10.16% correct\n",
            "Dickens \t 17.58% correct\n",
            "Tolstoy \t 1.93% correct\n",
            "Wilde \t 98.22% correct\n",
            "Training model: kn with ngram: 1\n",
            "Training LMs... (this may take a while)\n",
            "Evaluating model: kn with ngram: 1\n",
            "Results on dev set:\n",
            "Austen \t 88.77% correct\n",
            "Dickens \t 87.11% correct\n",
            "Tolstoy \t 93.09% correct\n",
            "Wilde \t 89.94% correct\n",
            "Training model: kn with ngram: 2\n",
            "Training LMs... (this may take a while)\n",
            "Evaluating model: kn with ngram: 2\n",
            "Results on dev set:\n",
            "Austen \t 90.37% correct\n",
            "Dickens \t 89.84% correct\n"
          ]
        },
        {
          "ename": "KeyboardInterrupt",
          "evalue": "",
          "output_type": "error",
          "traceback": [
            "\u001b[1;31m---------------------------------------------------------------------------\u001b[0m",
            "\u001b[1;31mKeyboardInterrupt\u001b[0m                         Traceback (most recent call last)",
            "Cell \u001b[1;32mIn[7], line 10\u001b[0m\n\u001b[0;32m      8\u001b[0m classifier\u001b[38;5;241m.\u001b[39mtrain(authors_train_data)\n\u001b[0;32m      9\u001b[0m \u001b[38;5;28mprint\u001b[39m(\u001b[38;5;124m\"\u001b[39m\u001b[38;5;124mEvaluating model: \u001b[39m\u001b[38;5;124m\"\u001b[39m \u001b[38;5;241m+\u001b[39m model \u001b[38;5;241m+\u001b[39m \u001b[38;5;124m\"\u001b[39m\u001b[38;5;124m with ngram: \u001b[39m\u001b[38;5;124m\"\u001b[39m \u001b[38;5;241m+\u001b[39m \u001b[38;5;28mstr\u001b[39m(n))\n\u001b[1;32m---> 10\u001b[0m avg_acc \u001b[38;5;241m=\u001b[39m \u001b[43mclassifier\u001b[49m\u001b[38;5;241;43m.\u001b[39;49m\u001b[43mevaluate_devset\u001b[49m\u001b[43m(\u001b[49m\u001b[43mauthors_test_data\u001b[49m\u001b[43m,\u001b[49m\u001b[43m \u001b[49m\u001b[43mshow_accuracy\u001b[49m\u001b[38;5;241;43m=\u001b[39;49m\u001b[38;5;28;43;01mTrue\u001b[39;49;00m\u001b[43m)\u001b[49m\n\u001b[0;32m     11\u001b[0m \u001b[38;5;28;01mif\u001b[39;00m avg_acc \u001b[38;5;241m>\u001b[39m best_acc:\n\u001b[0;32m     12\u001b[0m     best_acc \u001b[38;5;241m=\u001b[39m avg_acc\n",
            "File \u001b[1;32mc:\\Users\\Yassin\\Desktop\\NLP\\Homeworks\\HW3\\ngram_authorship_classifier.py:64\u001b[0m, in \u001b[0;36mNgramAuthorshipClassifier.evaluate_devset\u001b[1;34m(self, dev_data, show_accuracy)\u001b[0m\n\u001b[0;32m     62\u001b[0m     \u001b[38;5;28;01mcontinue\u001b[39;00m\n\u001b[0;32m     63\u001b[0m \u001b[38;5;28;01mfor\u001b[39;00m sample \u001b[38;5;129;01min\u001b[39;00m samples:\n\u001b[1;32m---> 64\u001b[0m     \u001b[38;5;28;01mif\u001b[39;00m \u001b[38;5;28;43mself\u001b[39;49m\u001b[38;5;241;43m.\u001b[39;49m\u001b[43mclassify\u001b[49m\u001b[43m(\u001b[49m\u001b[43msample\u001b[49m\u001b[43m)\u001b[49m \u001b[38;5;241m==\u001b[39m author:\n\u001b[0;32m     65\u001b[0m         correct\u001b[38;5;241m+\u001b[39m\u001b[38;5;241m=\u001b[39m\u001b[38;5;241m1\u001b[39m\n\u001b[0;32m     66\u001b[0m accuracy \u001b[38;5;241m=\u001b[39m correct\u001b[38;5;241m/\u001b[39mtotal\n",
            "File \u001b[1;32mc:\\Users\\Yassin\\Desktop\\NLP\\Homeworks\\HW3\\ngram_authorship_classifier.py:45\u001b[0m, in \u001b[0;36mNgramAuthorshipClassifier.classify\u001b[1;34m(self, sample, show_perplexity)\u001b[0m\n\u001b[0;32m     43\u001b[0m \u001b[38;5;28;01mfor\u001b[39;00m author, model \u001b[38;5;129;01min\u001b[39;00m \u001b[38;5;28mself\u001b[39m\u001b[38;5;241m.\u001b[39mmodels\u001b[38;5;241m.\u001b[39mitems():\n\u001b[0;32m     44\u001b[0m     \u001b[38;5;28;01mtry\u001b[39;00m:\n\u001b[1;32m---> 45\u001b[0m         perplexities[author] \u001b[38;5;241m=\u001b[39m \u001b[43mmodel\u001b[49m\u001b[38;5;241;43m.\u001b[39;49m\u001b[43mperplexity\u001b[49m\u001b[43m(\u001b[49m\u001b[43mngrams_lst\u001b[49m\u001b[43m)\u001b[49m\n\u001b[0;32m     46\u001b[0m     \u001b[38;5;28;01mexcept\u001b[39;00m \u001b[38;5;167;01mZeroDivisionError\u001b[39;00m: \u001b[38;5;66;03m# I added this the zero division error that occured when the perplexity was zero\u001b[39;00m\n\u001b[0;32m     47\u001b[0m         perplexities[author] \u001b[38;5;241m=\u001b[39m \u001b[38;5;28mfloat\u001b[39m(\u001b[38;5;124m'\u001b[39m\u001b[38;5;124minf\u001b[39m\u001b[38;5;124m'\u001b[39m)\n",
            "File \u001b[1;32mc:\\Users\\Yassin\\Desktop\\NLP\\Homeworks\\HW3\\ngram_helper.py:30\u001b[0m, in \u001b[0;36mMLE.perplexity\u001b[1;34m(self, ngrams_lst)\u001b[0m\n\u001b[0;32m     28\u001b[0m log_prob_sum \u001b[38;5;241m=\u001b[39m \u001b[38;5;241m0\u001b[39m\n\u001b[0;32m     29\u001b[0m \u001b[38;5;28;01mfor\u001b[39;00m ngram \u001b[38;5;129;01min\u001b[39;00m ngrams_lst:\n\u001b[1;32m---> 30\u001b[0m     prob \u001b[38;5;241m=\u001b[39m \u001b[38;5;28;43mself\u001b[39;49m\u001b[38;5;241;43m.\u001b[39;49m\u001b[43mscore\u001b[49m\u001b[43m(\u001b[49m\u001b[43mngram\u001b[49m\u001b[43m[\u001b[49m\u001b[38;5;241;43m-\u001b[39;49m\u001b[38;5;241;43m1\u001b[39;49m\u001b[43m]\u001b[49m\u001b[43m,\u001b[49m\u001b[43m \u001b[49m\u001b[43mngram\u001b[49m\u001b[43m[\u001b[49m\u001b[43m:\u001b[49m\u001b[38;5;241;43m-\u001b[39;49m\u001b[38;5;241;43m1\u001b[39;49m\u001b[43m]\u001b[49m\u001b[43m)\u001b[49m\n\u001b[0;32m     31\u001b[0m     log_prob_sum \u001b[38;5;241m+\u001b[39m\u001b[38;5;241m=\u001b[39m math\u001b[38;5;241m.\u001b[39mlog(prob \u001b[38;5;129;01mor\u001b[39;00m \u001b[38;5;241m1e-10\u001b[39m)\n\u001b[0;32m     32\u001b[0m \u001b[38;5;28;01mreturn\u001b[39;00m math\u001b[38;5;241m.\u001b[39mexp(\u001b[38;5;241m-\u001b[39mlog_prob_sum \u001b[38;5;241m/\u001b[39m \u001b[38;5;28mlen\u001b[39m(ngrams_lst))\n",
            "File \u001b[1;32mc:\\Users\\Yassin\\Desktop\\NLP\\Homeworks\\HW3\\ngram_helper.py:62\u001b[0m, in \u001b[0;36mKneserNeyInterpolated.score\u001b[1;34m(self, word, context)\u001b[0m\n\u001b[0;32m     60\u001b[0m context_tuple \u001b[38;5;241m=\u001b[39m \u001b[38;5;28mtuple\u001b[39m(context)\n\u001b[0;32m     61\u001b[0m count \u001b[38;5;241m=\u001b[39m \u001b[38;5;28mself\u001b[39m\u001b[38;5;241m.\u001b[39mngram_counts\u001b[38;5;241m.\u001b[39mget(context_tuple \u001b[38;5;241m+\u001b[39m (word,), \u001b[38;5;241m0\u001b[39m)\n\u001b[1;32m---> 62\u001b[0m lambda_factor \u001b[38;5;241m=\u001b[39m (d \u001b[38;5;241m/\u001b[39m \u001b[38;5;28mself\u001b[39m\u001b[38;5;241m.\u001b[39mcontext_counts\u001b[38;5;241m.\u001b[39mget(context_tuple, \u001b[38;5;241m1\u001b[39m)) \u001b[38;5;241m*\u001b[39m \u001b[38;5;28mlen\u001b[39m([w \u001b[38;5;28;01mfor\u001b[39;00m w \u001b[38;5;129;01min\u001b[39;00m \u001b[38;5;28mself\u001b[39m\u001b[38;5;241m.\u001b[39mngram_counts \u001b[38;5;28;01mif\u001b[39;00m w[:\u001b[38;5;241m-\u001b[39m\u001b[38;5;241m1\u001b[39m] \u001b[38;5;241m==\u001b[39m context_tuple])\n\u001b[0;32m     63\u001b[0m lower_order_prob \u001b[38;5;241m=\u001b[39m \u001b[38;5;28mself\u001b[39m\u001b[38;5;241m.\u001b[39mcontinuation_counts\u001b[38;5;241m.\u001b[39mget(word, \u001b[38;5;241m0\u001b[39m) \u001b[38;5;241m/\u001b[39m \u001b[38;5;28msum\u001b[39m(\u001b[38;5;28mself\u001b[39m\u001b[38;5;241m.\u001b[39mcontinuation_counts\u001b[38;5;241m.\u001b[39mvalues())\n\u001b[0;32m     64\u001b[0m \u001b[38;5;28;01mreturn\u001b[39;00m \u001b[38;5;28mmax\u001b[39m(count \u001b[38;5;241m-\u001b[39m d, \u001b[38;5;241m0\u001b[39m) \u001b[38;5;241m/\u001b[39m \u001b[38;5;28mself\u001b[39m\u001b[38;5;241m.\u001b[39mcontext_counts\u001b[38;5;241m.\u001b[39mget(context_tuple, \u001b[38;5;241m1\u001b[39m) \u001b[38;5;241m+\u001b[39m lambda_factor \u001b[38;5;241m*\u001b[39m lower_order_prob\n",
            "File \u001b[1;32mc:\\Users\\Yassin\\Desktop\\NLP\\Homeworks\\HW3\\ngram_helper.py:62\u001b[0m, in \u001b[0;36m<listcomp>\u001b[1;34m(.0)\u001b[0m\n\u001b[0;32m     60\u001b[0m context_tuple \u001b[38;5;241m=\u001b[39m \u001b[38;5;28mtuple\u001b[39m(context)\n\u001b[0;32m     61\u001b[0m count \u001b[38;5;241m=\u001b[39m \u001b[38;5;28mself\u001b[39m\u001b[38;5;241m.\u001b[39mngram_counts\u001b[38;5;241m.\u001b[39mget(context_tuple \u001b[38;5;241m+\u001b[39m (word,), \u001b[38;5;241m0\u001b[39m)\n\u001b[1;32m---> 62\u001b[0m lambda_factor \u001b[38;5;241m=\u001b[39m (d \u001b[38;5;241m/\u001b[39m \u001b[38;5;28mself\u001b[39m\u001b[38;5;241m.\u001b[39mcontext_counts\u001b[38;5;241m.\u001b[39mget(context_tuple, \u001b[38;5;241m1\u001b[39m)) \u001b[38;5;241m*\u001b[39m \u001b[38;5;28mlen\u001b[39m([w \u001b[38;5;28;01mfor\u001b[39;00m w \u001b[38;5;129;01min\u001b[39;00m \u001b[38;5;28mself\u001b[39m\u001b[38;5;241m.\u001b[39mngram_counts \u001b[38;5;28;01mif\u001b[39;00m \u001b[43mw\u001b[49m\u001b[43m[\u001b[49m\u001b[43m:\u001b[49m\u001b[38;5;241;43m-\u001b[39;49m\u001b[38;5;241;43m1\u001b[39;49m\u001b[43m]\u001b[49m\u001b[43m \u001b[49m\u001b[38;5;241;43m==\u001b[39;49m\u001b[43m \u001b[49m\u001b[43mcontext_tuple\u001b[49m])\n\u001b[0;32m     63\u001b[0m lower_order_prob \u001b[38;5;241m=\u001b[39m \u001b[38;5;28mself\u001b[39m\u001b[38;5;241m.\u001b[39mcontinuation_counts\u001b[38;5;241m.\u001b[39mget(word, \u001b[38;5;241m0\u001b[39m) \u001b[38;5;241m/\u001b[39m \u001b[38;5;28msum\u001b[39m(\u001b[38;5;28mself\u001b[39m\u001b[38;5;241m.\u001b[39mcontinuation_counts\u001b[38;5;241m.\u001b[39mvalues())\n\u001b[0;32m     64\u001b[0m \u001b[38;5;28;01mreturn\u001b[39;00m \u001b[38;5;28mmax\u001b[39m(count \u001b[38;5;241m-\u001b[39m d, \u001b[38;5;241m0\u001b[39m) \u001b[38;5;241m/\u001b[39m \u001b[38;5;28mself\u001b[39m\u001b[38;5;241m.\u001b[39mcontext_counts\u001b[38;5;241m.\u001b[39mget(context_tuple, \u001b[38;5;241m1\u001b[39m) \u001b[38;5;241m+\u001b[39m lambda_factor \u001b[38;5;241m*\u001b[39m lower_order_prob\n",
            "\u001b[1;31mKeyboardInterrupt\u001b[0m: "
          ]
        }
      ],
      "source": [
        "best_acc = 0\n",
        "best_model = None\n",
        "best_n = None\n",
        "for model in models:\n",
        "    for n in ngrams:\n",
        "        print(\"Training model: \" + model + \" with ngram: \" + str(n))\n",
        "        classifier = ngram_authorship_classifier.NgramAuthorshipClassifier(smoothing=model,n=n)\n",
        "        classifier.train(authors_train_data)\n",
        "        print(\"Evaluating model: \" + model + \" with ngram: \" + str(n))\n",
        "        avg_acc = classifier.evaluate_devset(authors_test_data, show_accuracy=True)\n",
        "        if avg_acc > best_acc:\n",
        "            best_acc = avg_acc\n",
        "            best_model = model\n",
        "            best_n = n"
      ]
    },
    {
      "cell_type": "code",
      "execution_count": null,
      "metadata": {
        "colab": {
          "base_uri": "https://localhost:8080/"
        },
        "id": "6Zdqr2CkZmjd",
        "outputId": "8970cdf8-f123-48bf-ba44-5313b9dbc2f8"
      },
      "outputs": [
        {
          "name": "stdout",
          "output_type": "stream",
          "text": [
            "Best model: lp with ngram: 5 with accuracy: 0.9822485207100592\n"
          ]
        }
      ],
      "source": [
        "print(\"Best model: \" + best_model + \" with ngram: \" + str(best_n) + \" with accuracy: \" + str(best_acc))"
      ]
    },
    {
      "cell_type": "code",
      "execution_count": 19,
      "metadata": {},
      "outputs": [
        {
          "data": {
            "text/plain": [
              "<module 'ngram_authorship_classifier' from 'c:\\\\Users\\\\Yassin\\\\Desktop\\\\NLP\\\\Homeworks\\\\HW3\\\\ngram_authorship_classifier.py'>"
            ]
          },
          "execution_count": 19,
          "metadata": {},
          "output_type": "execute_result"
        }
      ],
      "source": [
        "import importlib\n",
        "importlib.reload(ngram_authorship_classifier)"
      ]
    },
    {
      "cell_type": "code",
      "execution_count": 20,
      "metadata": {
        "colab": {
          "base_uri": "https://localhost:8080/"
        },
        "id": "xarOT4WQXyd4",
        "outputId": "200b3ce3-9784-44e6-f0a8-7443fc903637"
      },
      "outputs": [
        {
          "name": "stdout",
          "output_type": "stream",
          "text": [
            "Training LMs... (this may take a while)\n",
            "\n",
            "\n",
            "Top Five Most common features for authors \n",
            "\n",
            "Top features for Austen:\n",
            "  ('could',) -> 574 times\n",
            "  ('would',) -> 522 times\n",
            "  ('’s',) -> 457 times\n",
            "  ('said',) -> 340 times\n",
            "  ('must',) -> 310 times\n",
            "Top features for Dickens:\n",
            "  ('said',) -> 802 times\n",
            "  ('’s',) -> 671 times\n",
            "  ('n’t',) -> 318 times\n",
            "  ('little',) -> 305 times\n",
            "  ('would',) -> 283 times\n",
            "Top features for Tolstoy:\n",
            "  ('’s',) -> 1406 times\n",
            "  ('said',) -> 1020 times\n",
            "  ('one',) -> 519 times\n",
            "  ('n’t',) -> 468 times\n",
            "  ('would',) -> 436 times\n",
            "Top features for Wilde:\n",
            "  ('one',) -> 366 times\n",
            "  ('n’t',) -> 346 times\n",
            "  ('’s',) -> 335 times\n",
            "  ('Dorian',) -> 306 times\n",
            "  ('would',) -> 289 times\n"
          ]
        }
      ],
      "source": [
        "classifier = ngram_authorship_classifier.NgramAuthorshipClassifier(smoothing=\"lp\",n=1)\n",
        "classifier.train(authors_train_data)\n",
        "\n",
        "\n",
        "\n",
        "top_features = classifier.get_top_features(top_k=5)\n",
        "print(\"\\n\")\n",
        "print(\"Top Five Most common features for authors \\n\")\n",
        "\n",
        "for author, features in top_features.items():\n",
        "    print(f\"Top features for {author}:\")\n",
        "    for ngram, count in features:\n",
        "        print(f\"  {ngram} -> {count} times\")"
      ]
    }
  ],
  "metadata": {
    "accelerator": "GPU",
    "colab": {
      "gpuType": "L4",
      "machine_shape": "hm",
      "provenance": []
    },
    "kernelspec": {
      "display_name": ".venv",
      "language": "python",
      "name": "python3"
    },
    "language_info": {
      "codemirror_mode": {
        "name": "ipython",
        "version": 3
      },
      "file_extension": ".py",
      "mimetype": "text/x-python",
      "name": "python",
      "nbconvert_exporter": "python",
      "pygments_lexer": "ipython3",
      "version": "3.10.0"
    }
  },
  "nbformat": 4,
  "nbformat_minor": 0
}
