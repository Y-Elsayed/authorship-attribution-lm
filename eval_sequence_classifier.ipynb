{
 "cells": [
  {
   "cell_type": "code",
   "execution_count": 5,
   "metadata": {},
   "outputs": [],
   "source": [
    "from transformers import AutoModelForSequenceClassification, AutoTokenizer\n",
    "from data_processor import DataProcessor\n",
    "import hf_sequence_classifier as hf\n",
    "import os\n",
    "from dotenv import load_dotenv"
   ]
  },
  {
   "cell_type": "markdown",
   "metadata": {},
   "source": [
    "### Loading Data"
   ]
  },
  {
   "cell_type": "code",
   "execution_count": 6,
   "metadata": {},
   "outputs": [],
   "source": [
    "load_dotenv()\n",
    "data_dir = os.getenv('TRAIN_DATA_PATH')"
   ]
  },
  {
   "cell_type": "code",
   "execution_count": 7,
   "metadata": {},
   "outputs": [
    {
     "name": "stdout",
     "output_type": "stream",
     "text": [
      "Processing data for author: Austen\n",
      "Splitting into training and development...\n",
      "Processing data for author: Dickens\n",
      "Splitting into training and development...\n",
      "Processing data for author: Tolstoy\n",
      "Splitting into training and development...\n",
      "Processing data for author: Wilde\n",
      "Splitting into training and development...\n"
     ]
    }
   ],
   "source": [
    "author_files = [\"austen_utf8.txt\",\"dickens_utf8.txt\",\"tolstoy_utf8.txt\",\"wilde_utf8.txt\"]\n",
    "author_names = [\"Austen\",\"Dickens\",\"Tolstoy\",\"Wilde\"]\n",
    "\n",
    "data_proc = DataProcessor()\n",
    "\n",
    "authors_train_data = dict()\n",
    "authors_test_data = dict()\n",
    "for i in range(len(author_files)):\n",
    "    print(\"Processing data for author: \" + author_names[i])\n",
    "    trainset,devset = data_proc.process_split_file(os.path.join(data_dir, author_files[i]))\n",
    "    authors_train_data[author_names[i]] = trainset\n",
    "    authors_test_data[author_names[i]] = devset\n"
   ]
  },
  {
   "cell_type": "code",
   "execution_count": 27,
   "metadata": {},
   "outputs": [],
   "source": [
    "import random"
   ]
  },
  {
   "cell_type": "code",
   "execution_count": null,
   "metadata": {},
   "outputs": [],
   "source": [
    "authors_test_data_sample = dict()\n",
    "for author_name, trainset in authors_test_data.items():\n",
    "    authors_test_data_sample[author_name] = random.sample(trainset, min(50, len(trainset)))\n",
    "\n",
    "print(\"Authors test data sample:\")\n",
    "print(authors_test_data_sample)"
   ]
  },
  {
   "cell_type": "markdown",
   "metadata": {},
   "source": [
    "### Load the Model"
   ]
  },
  {
   "cell_type": "code",
   "execution_count": 46,
   "metadata": {},
   "outputs": [
    {
     "data": {
      "text/plain": [
       "<module 'hf_sequence_classifier' from 'c:\\\\Users\\\\Yassin\\\\Desktop\\\\NLP\\\\Homeworks\\\\HW3\\\\hf_sequence_classifier.py'>"
      ]
     },
     "execution_count": 46,
     "metadata": {},
     "output_type": "execute_result"
    }
   ],
   "source": [
    "import importlib\n",
    "importlib.reload(hf)"
   ]
  },
  {
   "cell_type": "code",
   "execution_count": 47,
   "metadata": {},
   "outputs": [],
   "source": [
    "# Load the SequenceClassifier instead\n",
    "classifier = hf.SequenceClassifier(num_labels=len(authors_test_data.keys()))\n",
    "\n",
    "# Load the trained model\n",
    "classifier.model = AutoModelForSequenceClassification.from_pretrained(\"./results_backup\")\n",
    "\n",
    "# Load the tokenizer\n",
    "classifier.tokenizer = AutoTokenizer.from_pretrained(\"./results_backup\")\n",
    "\n",
    "# Restore id2label\n",
    "classifier.id2label = {i: label for i, label in enumerate(authors_test_data.keys())}\n"
   ]
  },
  {
   "cell_type": "code",
   "execution_count": 48,
   "metadata": {},
   "outputs": [
    {
     "name": "stdout",
     "output_type": "stream",
     "text": [
      "id2label mapping: {0: 'Austen', 1: 'Dickens', 2: 'Tolstoy', 3: 'Wilde'}\n",
      "Model num_labels: 4\n"
     ]
    }
   ],
   "source": [
    "print(\"id2label mapping:\", classifier.id2label)\n",
    "print(\"Model num_labels:\", classifier.num_labels)\n"
   ]
  },
  {
   "cell_type": "code",
   "execution_count": 49,
   "metadata": {},
   "outputs": [
    {
     "name": "stdout",
     "output_type": "stream",
     "text": [
      "Results on dev set:\n",
      "predicted: Austen actual: Austen\n",
      "predicted: Austen actual: Austen\n",
      "predicted: Austen actual: Austen\n",
      "predicted: Austen actual: Austen\n",
      "predicted: Austen actual: Austen\n",
      "predicted: Austen actual: Austen\n",
      "predicted: Austen actual: Austen\n",
      "predicted: Austen actual: Austen\n",
      "predicted: Austen actual: Austen\n",
      "predicted: Austen actual: Austen\n",
      "predicted: Austen actual: Austen\n",
      "predicted: Austen actual: Austen\n",
      "predicted: Austen actual: Austen\n",
      "predicted: Austen actual: Austen\n",
      "predicted: Austen actual: Austen\n",
      "predicted: Austen actual: Austen\n",
      "predicted: Austen actual: Austen\n",
      "predicted: Austen actual: Austen\n",
      "predicted: Austen actual: Austen\n",
      "predicted: Austen actual: Austen\n",
      "predicted: Austen actual: Austen\n",
      "predicted: Austen actual: Austen\n",
      "predicted: Austen actual: Austen\n",
      "predicted: Austen actual: Austen\n",
      "predicted: Austen actual: Austen\n",
      "predicted: Austen actual: Austen\n",
      "predicted: Austen actual: Austen\n",
      "predicted: Austen actual: Austen\n",
      "predicted: Austen actual: Austen\n",
      "predicted: Austen actual: Austen\n",
      "predicted: Austen actual: Austen\n",
      "predicted: Austen actual: Austen\n",
      "predicted: Austen actual: Austen\n",
      "predicted: Austen actual: Austen\n",
      "predicted: Austen actual: Austen\n",
      "predicted: Austen actual: Austen\n",
      "predicted: Austen actual: Austen\n",
      "predicted: Austen actual: Austen\n",
      "predicted: Austen actual: Austen\n",
      "predicted: Austen actual: Austen\n",
      "predicted: Austen actual: Austen\n",
      "predicted: Austen actual: Austen\n",
      "predicted: Austen actual: Austen\n",
      "predicted: Austen actual: Austen\n",
      "predicted: Austen actual: Austen\n",
      "predicted: Austen actual: Austen\n",
      "predicted: Austen actual: Austen\n",
      "predicted: Austen actual: Austen\n",
      "predicted: Austen actual: Austen\n",
      "predicted: Austen actual: Austen\n",
      "Austen \t 100.00% correct\n",
      "predicted: Austen actual: Dickens\n",
      "predicted: Austen actual: Dickens\n",
      "predicted: Austen actual: Dickens\n",
      "predicted: Austen actual: Dickens\n",
      "predicted: Austen actual: Dickens\n",
      "predicted: Austen actual: Dickens\n",
      "predicted: Austen actual: Dickens\n",
      "predicted: Austen actual: Dickens\n",
      "predicted: Austen actual: Dickens\n",
      "predicted: Austen actual: Dickens\n",
      "predicted: Austen actual: Dickens\n",
      "predicted: Austen actual: Dickens\n",
      "predicted: Austen actual: Dickens\n",
      "predicted: Austen actual: Dickens\n",
      "predicted: Austen actual: Dickens\n",
      "predicted: Austen actual: Dickens\n",
      "predicted: Austen actual: Dickens\n",
      "predicted: Austen actual: Dickens\n",
      "predicted: Austen actual: Dickens\n",
      "predicted: Austen actual: Dickens\n",
      "predicted: Austen actual: Dickens\n",
      "predicted: Austen actual: Dickens\n",
      "predicted: Austen actual: Dickens\n",
      "predicted: Austen actual: Dickens\n",
      "predicted: Austen actual: Dickens\n",
      "predicted: Austen actual: Dickens\n",
      "predicted: Austen actual: Dickens\n",
      "predicted: Austen actual: Dickens\n",
      "predicted: Austen actual: Dickens\n",
      "predicted: Austen actual: Dickens\n",
      "predicted: Austen actual: Dickens\n",
      "predicted: Austen actual: Dickens\n",
      "predicted: Austen actual: Dickens\n",
      "predicted: Austen actual: Dickens\n",
      "predicted: Austen actual: Dickens\n",
      "predicted: Austen actual: Dickens\n",
      "predicted: Austen actual: Dickens\n",
      "predicted: Austen actual: Dickens\n",
      "predicted: Austen actual: Dickens\n",
      "predicted: Austen actual: Dickens\n",
      "predicted: Austen actual: Dickens\n",
      "predicted: Austen actual: Dickens\n",
      "predicted: Austen actual: Dickens\n",
      "predicted: Austen actual: Dickens\n",
      "predicted: Austen actual: Dickens\n",
      "predicted: Austen actual: Dickens\n",
      "predicted: Austen actual: Dickens\n",
      "predicted: Austen actual: Dickens\n",
      "predicted: Austen actual: Dickens\n",
      "predicted: Austen actual: Dickens\n",
      "Dickens \t 0.00% correct\n",
      "predicted: Austen actual: Tolstoy\n",
      "predicted: Austen actual: Tolstoy\n",
      "predicted: Austen actual: Tolstoy\n",
      "predicted: Austen actual: Tolstoy\n",
      "predicted: Austen actual: Tolstoy\n",
      "predicted: Austen actual: Tolstoy\n",
      "predicted: Austen actual: Tolstoy\n",
      "predicted: Austen actual: Tolstoy\n",
      "predicted: Austen actual: Tolstoy\n",
      "predicted: Austen actual: Tolstoy\n",
      "predicted: Austen actual: Tolstoy\n",
      "predicted: Austen actual: Tolstoy\n",
      "predicted: Austen actual: Tolstoy\n",
      "predicted: Austen actual: Tolstoy\n",
      "predicted: Austen actual: Tolstoy\n",
      "predicted: Austen actual: Tolstoy\n",
      "predicted: Austen actual: Tolstoy\n",
      "predicted: Austen actual: Tolstoy\n",
      "predicted: Austen actual: Tolstoy\n",
      "predicted: Austen actual: Tolstoy\n",
      "predicted: Austen actual: Tolstoy\n",
      "predicted: Austen actual: Tolstoy\n",
      "predicted: Austen actual: Tolstoy\n",
      "predicted: Austen actual: Tolstoy\n",
      "predicted: Austen actual: Tolstoy\n",
      "predicted: Austen actual: Tolstoy\n",
      "predicted: Austen actual: Tolstoy\n",
      "predicted: Austen actual: Tolstoy\n",
      "predicted: Austen actual: Tolstoy\n",
      "predicted: Austen actual: Tolstoy\n",
      "predicted: Austen actual: Tolstoy\n",
      "predicted: Austen actual: Tolstoy\n",
      "predicted: Austen actual: Tolstoy\n",
      "predicted: Austen actual: Tolstoy\n",
      "predicted: Austen actual: Tolstoy\n",
      "predicted: Austen actual: Tolstoy\n",
      "predicted: Austen actual: Tolstoy\n",
      "predicted: Austen actual: Tolstoy\n",
      "predicted: Austen actual: Tolstoy\n",
      "predicted: Austen actual: Tolstoy\n",
      "predicted: Austen actual: Tolstoy\n",
      "predicted: Austen actual: Tolstoy\n",
      "predicted: Austen actual: Tolstoy\n",
      "predicted: Austen actual: Tolstoy\n",
      "predicted: Austen actual: Tolstoy\n",
      "predicted: Austen actual: Tolstoy\n",
      "predicted: Austen actual: Tolstoy\n",
      "predicted: Austen actual: Tolstoy\n",
      "predicted: Austen actual: Tolstoy\n",
      "predicted: Austen actual: Tolstoy\n",
      "Tolstoy \t 0.00% correct\n",
      "predicted: Austen actual: Wilde\n",
      "predicted: Austen actual: Wilde\n",
      "predicted: Austen actual: Wilde\n",
      "predicted: Austen actual: Wilde\n",
      "predicted: Austen actual: Wilde\n",
      "predicted: Austen actual: Wilde\n",
      "predicted: Austen actual: Wilde\n",
      "predicted: Austen actual: Wilde\n",
      "predicted: Austen actual: Wilde\n",
      "predicted: Austen actual: Wilde\n",
      "predicted: Austen actual: Wilde\n",
      "predicted: Austen actual: Wilde\n",
      "predicted: Austen actual: Wilde\n",
      "predicted: Austen actual: Wilde\n",
      "predicted: Austen actual: Wilde\n",
      "predicted: Austen actual: Wilde\n",
      "predicted: Austen actual: Wilde\n",
      "predicted: Austen actual: Wilde\n",
      "predicted: Austen actual: Wilde\n",
      "predicted: Austen actual: Wilde\n",
      "predicted: Austen actual: Wilde\n",
      "predicted: Austen actual: Wilde\n",
      "predicted: Austen actual: Wilde\n",
      "predicted: Austen actual: Wilde\n",
      "predicted: Austen actual: Wilde\n",
      "predicted: Austen actual: Wilde\n",
      "predicted: Austen actual: Wilde\n",
      "predicted: Austen actual: Wilde\n",
      "predicted: Austen actual: Wilde\n",
      "predicted: Austen actual: Wilde\n",
      "predicted: Austen actual: Wilde\n",
      "predicted: Austen actual: Wilde\n",
      "predicted: Austen actual: Wilde\n",
      "predicted: Austen actual: Wilde\n",
      "predicted: Austen actual: Wilde\n",
      "predicted: Austen actual: Wilde\n",
      "predicted: Austen actual: Wilde\n",
      "predicted: Austen actual: Wilde\n",
      "predicted: Austen actual: Wilde\n",
      "predicted: Austen actual: Wilde\n",
      "predicted: Austen actual: Wilde\n",
      "predicted: Austen actual: Wilde\n",
      "predicted: Austen actual: Wilde\n",
      "predicted: Austen actual: Wilde\n",
      "predicted: Austen actual: Wilde\n",
      "predicted: Austen actual: Wilde\n",
      "predicted: Austen actual: Wilde\n",
      "predicted: Austen actual: Wilde\n",
      "predicted: Austen actual: Wilde\n",
      "predicted: Austen actual: Wilde\n",
      "Wilde \t 0.00% correct\n"
     ]
    }
   ],
   "source": [
    "# Now evaluate\n",
    "pred = classifier.evaluate_devset(authors_test_data_sample, show_accuracy=True)"
   ]
  }
 ],
 "metadata": {
  "kernelspec": {
   "display_name": ".venv",
   "language": "python",
   "name": "python3"
  },
  "language_info": {
   "codemirror_mode": {
    "name": "ipython",
    "version": 3
   },
   "file_extension": ".py",
   "mimetype": "text/x-python",
   "name": "python",
   "nbconvert_exporter": "python",
   "pygments_lexer": "ipython3",
   "version": "3.10.0"
  }
 },
 "nbformat": 4,
 "nbformat_minor": 2
}
